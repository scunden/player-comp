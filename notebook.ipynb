{
 "cells": [
  {
   "cell_type": "code",
   "execution_count": 13,
   "metadata": {},
   "outputs": [],
   "source": [
    "import requests\n",
    "from bs4 import BeautifulSoup\n",
    "import pandas as pd\n",
    "from io import StringIO\n"
   ]
  },
  {
   "cell_type": "code",
   "execution_count": 18,
   "metadata": {},
   "outputs": [],
   "source": [
    "def get_complete_report(url):\n",
    "    # Send a GET request to the URL\n",
    "    response = requests.get(url)\n",
    "    \n",
    "    # Check if the request was successful\n",
    "    if response.status_code == 200:\n",
    "        # Parse the HTML content of the page\n",
    "        soup = BeautifulSoup(response.text, 'html.parser')\n",
    "        \n",
    "        # Find all table elements\n",
    "        tables = soup.find_all('table')\n",
    "        \n",
    "        # Initialize a counter for naming CSV files\n",
    "        table_count = 0\n",
    "        \n",
    "        # Loop through each table\n",
    "        for table in tables:\n",
    "            # Attempt to find a caption for the table\n",
    "            caption = table.find('caption')\n",
    "            if caption is None:\n",
    "                # If no caption is found, check for the closest preceding header (h1, h2, h3, etc.)\n",
    "                for sibling in table.previous_siblings:\n",
    "                    if sibling.name in ['h1', 'h2', 'h3', 'h4', 'h5', 'h6']:\n",
    "                        caption = sibling.text.strip()\n",
    "                        break\n",
    "            \n",
    "            # Use caption text or a default name if caption is not found\n",
    "            \n",
    "            if caption:\n",
    "                table_name = caption if isinstance(caption, str) else caption.text.strip()\n",
    "                table_name = table_name.replace('/', ' or ')  # Replace problematic characters in file names\n",
    "                if \"Complete\" in table_name:\n",
    "            \n",
    "                    # Convert the table to a DataFrame\n",
    "                    df = pd.read_html(str(table))[0]\n",
    "            table_count += 1\n",
    "    else:\n",
    "        print(f\"Failed to retrieve the webpage. Status code: {response.status_code}\")\n",
    "    return df\n"
   ]
  },
  {
   "cell_type": "code",
   "execution_count": 19,
   "metadata": {},
   "outputs": [
    {
     "name": "stderr",
     "output_type": "stream",
     "text": [
      "C:\\Users\\Steve\\AppData\\Local\\Temp\\ipykernel_14304\\2758915922.py:35: FutureWarning: Passing literal html to 'read_html' is deprecated and will be removed in a future version. To read from a literal string, wrap it in a 'StringIO' object.\n",
      "  df = pd.read_html(str(table))[0]\n"
     ]
    }
   ],
   "source": [
    "\n",
    "\n",
    "# URL of the page to scrape\n",
    "url = 'https://fbref.com/en/players/7aa8adfe/scout/365_m1/Alejandro-Garnacho-Scouting-Report'\n",
    "\n",
    "# Call the function with the specified URL\n",
    "df = get_complete_report(url)\n"
   ]
  },
  {
   "cell_type": "code",
   "execution_count": 21,
   "metadata": {},
   "outputs": [],
   "source": [
    "df = df[~(df.isnull().all(axis=1))]"
   ]
  },
  {
   "cell_type": "code",
   "execution_count": 45,
   "metadata": {},
   "outputs": [],
   "source": [
    "def all_elements_equal(row):\n",
    "    return all(x == row.iloc[0] for x in row)\n",
    "\n",
    "# Apply this function to each row\n",
    "equal_rows = df[df.apply(all_elements_equal, axis=1)]"
   ]
  },
  {
   "cell_type": "code",
   "execution_count": 46,
   "metadata": {},
   "outputs": [],
   "source": [
    "row = pd.DataFrame(data=[[\"Standard\",\"Standard\",\"Standard\"]], columns=df.columns, index=[0])\n",
    "equal_rows = pd.concat([equal_rows, row])\n",
    "equal_rows = equal_rows.sort_index()\n",
    "equal_rows.columns = [x[1] for x in equal_rows.columns]\n",
    "equal_rows = equal_rows.Statistic"
   ]
  },
  {
   "cell_type": "code",
   "execution_count": 56,
   "metadata": {},
   "outputs": [
    {
     "data": {
      "text/html": [
       "<div>\n",
       "<style scoped>\n",
       "    .dataframe tbody tr th:only-of-type {\n",
       "        vertical-align: middle;\n",
       "    }\n",
       "\n",
       "    .dataframe tbody tr th {\n",
       "        vertical-align: top;\n",
       "    }\n",
       "\n",
       "    .dataframe thead tr th {\n",
       "        text-align: left;\n",
       "    }\n",
       "</style>\n",
       "<table border=\"1\" class=\"dataframe\">\n",
       "  <thead>\n",
       "    <tr>\n",
       "      <th></th>\n",
       "      <th colspan=\"3\" halign=\"left\">Standard Stats</th>\n",
       "      <th>Category</th>\n",
       "    </tr>\n",
       "    <tr>\n",
       "      <th></th>\n",
       "      <th>Statistic</th>\n",
       "      <th>Per 90</th>\n",
       "      <th>Percentile</th>\n",
       "      <th></th>\n",
       "    </tr>\n",
       "  </thead>\n",
       "  <tbody>\n",
       "    <tr>\n",
       "      <th>1</th>\n",
       "      <td>Assists</td>\n",
       "      <td>0.14</td>\n",
       "      <td>37</td>\n",
       "      <td>Standard</td>\n",
       "    </tr>\n",
       "    <tr>\n",
       "      <th>2</th>\n",
       "      <td>Goals + Assists</td>\n",
       "      <td>0.46</td>\n",
       "      <td>57</td>\n",
       "      <td>Standard</td>\n",
       "    </tr>\n",
       "    <tr>\n",
       "      <th>3</th>\n",
       "      <td>Non-Penalty Goals</td>\n",
       "      <td>0.32</td>\n",
       "      <td>76</td>\n",
       "      <td>Standard</td>\n",
       "    </tr>\n",
       "    <tr>\n",
       "      <th>4</th>\n",
       "      <td>Penalty Kicks Made</td>\n",
       "      <td>0.00</td>\n",
       "      <td>35</td>\n",
       "      <td>Standard</td>\n",
       "    </tr>\n",
       "    <tr>\n",
       "      <th>5</th>\n",
       "      <td>Penalty Kicks Attempted</td>\n",
       "      <td>0.00</td>\n",
       "      <td>32</td>\n",
       "      <td>Standard</td>\n",
       "    </tr>\n",
       "    <tr>\n",
       "      <th>...</th>\n",
       "      <td>...</td>\n",
       "      <td>...</td>\n",
       "      <td>...</td>\n",
       "      <td>...</td>\n",
       "    </tr>\n",
       "    <tr>\n",
       "      <th>163</th>\n",
       "      <td>Own Goals</td>\n",
       "      <td>0.00</td>\n",
       "      <td>51</td>\n",
       "      <td>Miscellaneous Stats</td>\n",
       "    </tr>\n",
       "    <tr>\n",
       "      <th>164</th>\n",
       "      <td>Ball Recoveries</td>\n",
       "      <td>4.29</td>\n",
       "      <td>47</td>\n",
       "      <td>Miscellaneous Stats</td>\n",
       "    </tr>\n",
       "    <tr>\n",
       "      <th>166</th>\n",
       "      <td>Aerials Won</td>\n",
       "      <td>0.25</td>\n",
       "      <td>20</td>\n",
       "      <td>Miscellaneous Stats</td>\n",
       "    </tr>\n",
       "    <tr>\n",
       "      <th>167</th>\n",
       "      <td>Aerials Lost</td>\n",
       "      <td>0.96</td>\n",
       "      <td>43</td>\n",
       "      <td>Miscellaneous Stats</td>\n",
       "    </tr>\n",
       "    <tr>\n",
       "      <th>168</th>\n",
       "      <td>% of Aerials Won</td>\n",
       "      <td>20.6%</td>\n",
       "      <td>11</td>\n",
       "      <td>Miscellaneous Stats</td>\n",
       "    </tr>\n",
       "  </tbody>\n",
       "</table>\n",
       "<p>141 rows × 4 columns</p>\n",
       "</div>"
      ],
      "text/plain": [
       "              Standard Stats                               Category\n",
       "                   Statistic Per 90 Percentile                     \n",
       "1                    Assists   0.14         37             Standard\n",
       "2            Goals + Assists   0.46         57             Standard\n",
       "3          Non-Penalty Goals   0.32         76             Standard\n",
       "4         Penalty Kicks Made   0.00         35             Standard\n",
       "5    Penalty Kicks Attempted   0.00         32             Standard\n",
       "..                       ...    ...        ...                  ...\n",
       "163                Own Goals   0.00         51  Miscellaneous Stats\n",
       "164          Ball Recoveries   4.29         47  Miscellaneous Stats\n",
       "166              Aerials Won   0.25         20  Miscellaneous Stats\n",
       "167             Aerials Lost   0.96         43  Miscellaneous Stats\n",
       "168         % of Aerials Won  20.6%         11  Miscellaneous Stats\n",
       "\n",
       "[141 rows x 4 columns]"
      ]
     },
     "execution_count": 56,
     "metadata": {},
     "output_type": "execute_result"
    }
   ],
   "source": [
    "df.drop(index=equal_rows.index)"
   ]
  },
  {
   "cell_type": "code",
   "execution_count": 50,
   "metadata": {},
   "outputs": [],
   "source": [
    "range_dict = {}\n",
    "prev_key = None\n",
    "for key, value in equal_rows.items():\n",
    "    if prev_key is not None:\n",
    "        range_dict[(prev_key, key)] = equal_rows[prev_key]\n",
    "    prev_key = key\n",
    "# Assuming the DataFrame does not exceed the maximum index from series\n",
    "range_dict[(prev_key, float('inf'))] = equal_rows[prev_key]\n",
    "\n",
    "# Sample DataFrame 'df' - assuming it's already defined with some data and indices\n",
    "# df = pd.DataFrame({'Data': [1, 2, 3, ..., n]}, index=[0, 1, 2, ..., m])\n",
    "\n",
    "# Function to find the correct category based on index\n",
    "def find_category(index):\n",
    "    for (start, end), category in range_dict.items():\n",
    "        if start <= index < end:\n",
    "            return category\n",
    "    return None  # in case no category matches\n",
    "\n",
    "# Apply the function to the index of df to create a new column\n",
    "df['Category'] = df.index.map(find_category)\n"
   ]
  },
  {
   "cell_type": "code",
   "execution_count": null,
   "metadata": {},
   "outputs": [],
   "source": []
  },
  {
   "cell_type": "code",
   "execution_count": null,
   "metadata": {},
   "outputs": [],
   "source": []
  },
  {
   "cell_type": "code",
   "execution_count": null,
   "metadata": {},
   "outputs": [],
   "source": []
  },
  {
   "cell_type": "code",
   "execution_count": null,
   "metadata": {},
   "outputs": [],
   "source": []
  },
  {
   "cell_type": "code",
   "execution_count": null,
   "metadata": {},
   "outputs": [],
   "source": []
  },
  {
   "cell_type": "code",
   "execution_count": null,
   "metadata": {},
   "outputs": [],
   "source": []
  }
 ],
 "metadata": {
  "kernelspec": {
   "display_name": "player-comp",
   "language": "python",
   "name": "python3"
  },
  "language_info": {
   "codemirror_mode": {
    "name": "ipython",
    "version": 3
   },
   "file_extension": ".py",
   "mimetype": "text/x-python",
   "name": "python",
   "nbconvert_exporter": "python",
   "pygments_lexer": "ipython3",
   "version": "3.12.3"
  }
 },
 "nbformat": 4,
 "nbformat_minor": 2
}
