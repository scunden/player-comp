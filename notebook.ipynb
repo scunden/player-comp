{
 "cells": [
  {
   "cell_type": "code",
   "execution_count": null,
   "metadata": {},
   "outputs": [],
   "source": [
    "import requests\n",
    "from bs4 import BeautifulSoup\n",
    "import pandas as pd\n",
    "\n",
    "def scrape_tables_from_url(url):\n",
    "    # Send a GET request to the URL\n",
    "    response = requests.get(url)\n",
    "    \n",
    "    # Check if the request was successful\n",
    "    if response.status_code == 200:\n",
    "        # Parse the HTML content of the page\n",
    "        soup = BeautifulSoup(response.text, 'html.parser')\n",
    "        \n",
    "        # Find all table elements\n",
    "        tables = soup.find_all('table')\n",
    "        \n",
    "        # Initialize a counter for naming CSV files\n",
    "        table_count = 0\n",
    "        \n",
    "        # Loop through each table and save it as a CSV file\n",
    "        for table in tables:\n",
    "            # Convert the table to a DataFrame\n",
    "            df = pd.read_html(str(table))[0]\n",
    "            \n",
    "            # Generate a file name\n",
    "            file_name = f\"table_{table_count}.csv\"\n",
    "            \n",
    "            # Save the DataFrame to a CSV file\n",
    "            df.to_csv(file_name, index=False)\n",
    "            print(f\"Saved {file_name}\")\n",
    "            \n",
    "            # Increment the counter\n",
    "            table_count += 1\n",
    "    else:\n",
    "        print(f\"Failed to retrieve the webpage. Status code: {response.status_code}\")\n",
    "\n",
    "# URL of the page to scrape\n",
    "url = 'https://fbref.com/en/players/7aa8adfe/scout/365_m1/Alejandro-Garnacho-Scouting-Report'\n",
    "\n",
    "# Call the function with the specified URL\n",
    "scrape_tables_from_url(url)\n"
   ]
  },
  {
   "cell_type": "code",
   "execution_count": null,
   "metadata": {},
   "outputs": [],
   "source": []
  }
 ],
 "metadata": {
  "language_info": {
   "name": "python"
  }
 },
 "nbformat": 4,
 "nbformat_minor": 2
}
